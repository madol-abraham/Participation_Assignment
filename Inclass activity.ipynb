{
  "nbformat": 4,
  "nbformat_minor": 0,
  "metadata": {
    "colab": {
      "provenance": [],
      "authorship_tag": "ABX9TyMZtV/Frqa/zuJS4kvd1NVG",
      "include_colab_link": true
    },
    "kernelspec": {
      "name": "python3",
      "display_name": "Python 3"
    },
    "language_info": {
      "name": "python"
    }
  },
  "cells": [
    {
      "cell_type": "markdown",
      "metadata": {
        "id": "view-in-github",
        "colab_type": "text"
      },
      "source": [
        "<a href=\"https://colab.research.google.com/github/madol-abraham/Participation_Assignment/blob/main/Inclass%20activity.ipynb\" target=\"_parent\"><img src=\"https://colab.research.google.com/assets/colab-badge.svg\" alt=\"Open In Colab\"/></a>"
      ]
    },
    {
      "cell_type": "markdown",
      "source": [
        "Inclass activity"
      ],
      "metadata": {
        "id": "O2Y6Uc1pdyr1"
      }
    },
    {
      "cell_type": "code",
      "source": [
        "import gymnasium as gym\n",
        "\n",
        "# 1) The chosen environment:\n",
        "env = gym.make(\"FrozenLake-v1\", render_mode=\"human\")\n",
        "\n",
        "# 2) Reset the environment to get the initial state\n",
        "state, info = env.reset()\n",
        "\n",
        "# 3) Number of steps to run\n",
        "max_steps = 100\n",
        "\n",
        "for step in range(max_steps):\n",
        "    # Take a random action\n",
        "    action = env.action_space.sample()\n",
        "\n",
        "    # Do the action and get new state, reward, etc.\n",
        "    next_state, reward, done, truncated, info = env.step(action)\n",
        "\n",
        "    # Print what happened\n",
        "    print(f\"Step: {step + 1}\")\n",
        "    print(f\"Action taken: {action}\")\n",
        "    print(f\"State before: {state}\")\n",
        "    print(f\"State after: {next_state}\")\n",
        "    print(f\"Reward: {reward}\")\n",
        "    print(f\"Done: {done}\")\n",
        "    print(\"-\" * 30)\n",
        "\n",
        "    # Move to next state\n",
        "    state = next_state\n",
        "\n",
        "    # Stop if done or max steps reached\n",
        "    if done or truncated:\n",
        "        print(\"Episode finished.\")\n",
        "        break\n",
        "\n",
        "env.close()"
      ],
      "metadata": {
        "colab": {
          "base_uri": "https://localhost:8080/"
        },
        "id": "B6OLT0mAeO8p",
        "outputId": "c5e51d3c-5b56-4c46-d78a-57608b085f61"
      },
      "execution_count": 2,
      "outputs": [
        {
          "output_type": "stream",
          "name": "stdout",
          "text": [
            "Step: 1\n",
            "Action taken: 0\n",
            "State before: 0\n",
            "State after: 4\n",
            "Reward: 0.0\n",
            "Done: False\n",
            "------------------------------\n",
            "Step: 2\n",
            "Action taken: 0\n",
            "State before: 4\n",
            "State after: 4\n",
            "Reward: 0.0\n",
            "Done: False\n",
            "------------------------------\n",
            "Step: 3\n",
            "Action taken: 2\n",
            "State before: 4\n",
            "State after: 8\n",
            "Reward: 0.0\n",
            "Done: False\n",
            "------------------------------\n",
            "Step: 4\n",
            "Action taken: 3\n",
            "State before: 8\n",
            "State after: 4\n",
            "Reward: 0.0\n",
            "Done: False\n",
            "------------------------------\n",
            "Step: 5\n",
            "Action taken: 0\n",
            "State before: 4\n",
            "State after: 8\n",
            "Reward: 0.0\n",
            "Done: False\n",
            "------------------------------\n",
            "Step: 6\n",
            "Action taken: 0\n",
            "State before: 8\n",
            "State after: 8\n",
            "Reward: 0.0\n",
            "Done: False\n",
            "------------------------------\n",
            "Step: 7\n",
            "Action taken: 0\n",
            "State before: 8\n",
            "State after: 4\n",
            "Reward: 0.0\n",
            "Done: False\n",
            "------------------------------\n",
            "Step: 8\n",
            "Action taken: 3\n",
            "State before: 4\n",
            "State after: 4\n",
            "Reward: 0.0\n",
            "Done: False\n",
            "------------------------------\n",
            "Step: 9\n",
            "Action taken: 1\n",
            "State before: 4\n",
            "State after: 5\n",
            "Reward: 0.0\n",
            "Done: True\n",
            "------------------------------\n",
            "Episode finished.\n"
          ]
        }
      ]
    }
  ]
}